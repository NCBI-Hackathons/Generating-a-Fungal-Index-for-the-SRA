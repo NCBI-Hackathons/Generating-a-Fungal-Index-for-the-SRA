{
 "cells": [
  {
   "cell_type": "markdown",
   "metadata": {},
   "source": [
    "# Explore the BLAST output"
   ]
  },
  {
   "cell_type": "markdown",
   "metadata": {},
   "source": [
    "This Jupyter notebook shows how to load and enhance the results of a distributed BLAST against the [NCBI's Sequence Read Archive (SRA)](https://www.ncbi.nlm.nih.gov/sra). For more/up-to-date information, please check [GitHub Wiki](https://github.com/NCBI-Hackathons/Generating-a-Fungal-Index-for-the-SRA/wiki)."
   ]
  },
  {
   "cell_type": "markdown",
   "metadata": {},
   "source": [
    "## Install dependencies"
   ]
  },
  {
   "cell_type": "markdown",
   "metadata": {},
   "source": [
    "This notebook requires [`pandas`](http://pandas.pydata.org/) and [`pysradb`](https://saket-choudhary.me/pysradb/) to be installed:"
   ]
  },
  {
   "cell_type": "code",
   "execution_count": 1,
   "metadata": {
    "collapsed": true
   },
   "outputs": [
    {
     "name": "stdout",
     "output_type": "stream",
     "text": [
      "Requirement already satisfied: pandas in ./ve/lib/python3.7/site-packages (0.24.2)\r\n",
      "Requirement already satisfied: pytz>=2011k in ./ve/lib/python3.7/site-packages (from pandas) (2019.1)\r\n",
      "Requirement already satisfied: python-dateutil>=2.5.0 in ./ve/lib/python3.7/site-packages (from pandas) (2.8.0)\r\n",
      "Requirement already satisfied: numpy>=1.12.0 in ./ve/lib/python3.7/site-packages (from pandas) (1.16.2)\r\n",
      "Requirement already satisfied: six>=1.5 in ./ve/lib/python3.7/site-packages (from python-dateutil>=2.5.0->pandas) (1.12.0)\r\n"
     ]
    }
   ],
   "source": [
    "! pip install pandas"
   ]
  },
  {
   "cell_type": "code",
   "execution_count": 2,
   "metadata": {
    "collapsed": true
   },
   "outputs": [
    {
     "name": "stdout",
     "output_type": "stream",
     "text": [
      "Requirement already satisfied: pysradb in ./ve/lib/python3.7/site-packages (0.9.0)\n",
      "Requirement already satisfied: tqdm>=4.28 in ./ve/lib/python3.7/site-packages (from pysradb) (4.31.1)\n",
      "Requirement already satisfied: pandas>=0.23.4 in ./ve/lib/python3.7/site-packages (from pysradb) (0.24.2)\n",
      "Requirement already satisfied: numpy>=1.12.0 in ./ve/lib/python3.7/site-packages (from pandas>=0.23.4->pysradb) (1.16.2)\n",
      "Requirement already satisfied: python-dateutil>=2.5.0 in ./ve/lib/python3.7/site-packages (from pandas>=0.23.4->pysradb) (2.8.0)\n",
      "Requirement already satisfied: pytz>=2011k in ./ve/lib/python3.7/site-packages (from pandas>=0.23.4->pysradb) (2019.1)\n",
      "Requirement already satisfied: six>=1.5 in ./ve/lib/python3.7/site-packages (from python-dateutil>=2.5.0->pandas>=0.23.4->pysradb) (1.12.0)\n"
     ]
    }
   ],
   "source": [
    "! pip install pysradb"
   ]
  },
  {
   "cell_type": "markdown",
   "metadata": {},
   "source": [
    "Note: you may want to add the `--user` flag if you're working with your system's Python. To manage your own different versions of Python, we recommend [`pyenv`](https://github.com/pyenv/pyenv/) and its [`pyenv-virtualenv`](https://github.com/pyenv/pyenv-virtualenv) plugin."
   ]
  },
  {
   "cell_type": "markdown",
   "metadata": {},
   "source": [
    "## Load the BLAST output"
   ]
  },
  {
   "cell_type": "markdown",
   "metadata": {},
   "source": [
    "Set the name of the distributed BLAST output file to load (use `Tab` to autocomplete):"
   ]
  },
  {
   "cell_type": "code",
   "execution_count": 3,
   "metadata": {},
   "outputs": [],
   "source": [
    "blast_output_filename = \"sample_blast_output.parsed\""
   ]
  },
  {
   "cell_type": "markdown",
   "metadata": {},
   "source": [
    "Load it into a [Pandas](https://pandas.pydata.org/) dataframe (for more information, please check the [dataframe documentation](https://pandas.pydata.org/pandas-docs/stable/reference/api/pandas.DataFrame.html)):"
   ]
  },
  {
   "cell_type": "code",
   "execution_count": 4,
   "metadata": {},
   "outputs": [],
   "source": [
    "import pandas as pd\n",
    "\n",
    "blast_output = pd.read_csv(blast_output_filename, sep=\" \")"
   ]
  },
  {
   "cell_type": "markdown",
   "metadata": {},
   "source": [
    "Show the blast output:"
   ]
  },
  {
   "cell_type": "code",
   "execution_count": 5,
   "metadata": {},
   "outputs": [
    {
     "data": {
      "text/html": [
       "<div>\n",
       "<style scoped>\n",
       "    .dataframe tbody tr th:only-of-type {\n",
       "        vertical-align: middle;\n",
       "    }\n",
       "\n",
       "    .dataframe tbody tr th {\n",
       "        vertical-align: top;\n",
       "    }\n",
       "\n",
       "    .dataframe thead th {\n",
       "        text-align: right;\n",
       "    }\n",
       "</style>\n",
       "<table border=\"1\" class=\"dataframe\">\n",
       "  <thead>\n",
       "    <tr style=\"text-align: right;\">\n",
       "      <th></th>\n",
       "      <th>id1</th>\n",
       "      <th>id2</th>\n",
       "      <th>length</th>\n",
       "      <th>score</th>\n",
       "      <th>length2</th>\n",
       "      <th>e_value</th>\n",
       "      <th>identities</th>\n",
       "      <th>gaps</th>\n",
       "      <th>strand</th>\n",
       "    </tr>\n",
       "  </thead>\n",
       "  <tbody>\n",
       "    <tr>\n",
       "      <th>0</th>\n",
       "      <td>DRR001369.139725</td>\n",
       "      <td>GEKBKKN08I5SM9</td>\n",
       "      <td>597</td>\n",
       "      <td>128</td>\n",
       "      <td>69</td>\n",
       "      <td>8.000000e-30</td>\n",
       "      <td>69/69</td>\n",
       "      <td>0/69</td>\n",
       "      <td>Plus/Plus</td>\n",
       "    </tr>\n",
       "    <tr>\n",
       "      <th>1</th>\n",
       "      <td>DRR001369.139710</td>\n",
       "      <td>GEKBKKN08JJ5PQ</td>\n",
       "      <td>777</td>\n",
       "      <td>128</td>\n",
       "      <td>69</td>\n",
       "      <td>8.000000e-30</td>\n",
       "      <td>69/69</td>\n",
       "      <td>0/69</td>\n",
       "      <td>Plus/Plus</td>\n",
       "    </tr>\n",
       "    <tr>\n",
       "      <th>2</th>\n",
       "      <td>DRR001369.139705</td>\n",
       "      <td>GEKBKKN08JT0FI</td>\n",
       "      <td>594</td>\n",
       "      <td>128</td>\n",
       "      <td>69</td>\n",
       "      <td>8.000000e-30</td>\n",
       "      <td>69/69</td>\n",
       "      <td>0/69</td>\n",
       "      <td>Plus/Plus</td>\n",
       "    </tr>\n",
       "    <tr>\n",
       "      <th>3</th>\n",
       "      <td>DRR001369.139692</td>\n",
       "      <td>GEKBKKN08I64FT</td>\n",
       "      <td>604</td>\n",
       "      <td>128</td>\n",
       "      <td>69</td>\n",
       "      <td>8.000000e-30</td>\n",
       "      <td>69/69</td>\n",
       "      <td>0/69</td>\n",
       "      <td>Plus/Plus</td>\n",
       "    </tr>\n",
       "    <tr>\n",
       "      <th>4</th>\n",
       "      <td>DRR001369.139691</td>\n",
       "      <td>GEKBKKN08JPHFU</td>\n",
       "      <td>517</td>\n",
       "      <td>128</td>\n",
       "      <td>69</td>\n",
       "      <td>8.000000e-30</td>\n",
       "      <td>69/69</td>\n",
       "      <td>0/69</td>\n",
       "      <td>Plus/Plus</td>\n",
       "    </tr>\n",
       "  </tbody>\n",
       "</table>\n",
       "</div>"
      ],
      "text/plain": [
       "                id1             id2  length  score  length2       e_value  \\\n",
       "0  DRR001369.139725  GEKBKKN08I5SM9     597    128       69  8.000000e-30   \n",
       "1  DRR001369.139710  GEKBKKN08JJ5PQ     777    128       69  8.000000e-30   \n",
       "2  DRR001369.139705  GEKBKKN08JT0FI     594    128       69  8.000000e-30   \n",
       "3  DRR001369.139692  GEKBKKN08I64FT     604    128       69  8.000000e-30   \n",
       "4  DRR001369.139691  GEKBKKN08JPHFU     517    128       69  8.000000e-30   \n",
       "\n",
       "  identities  gaps     strand  \n",
       "0      69/69  0/69  Plus/Plus  \n",
       "1      69/69  0/69  Plus/Plus  \n",
       "2      69/69  0/69  Plus/Plus  \n",
       "3      69/69  0/69  Plus/Plus  \n",
       "4      69/69  0/69  Plus/Plus  "
      ]
     },
     "execution_count": 5,
     "metadata": {},
     "output_type": "execute_result"
    }
   ],
   "source": [
    "blast_output.head()  # Show the first records"
   ]
  },
  {
   "cell_type": "markdown",
   "metadata": {},
   "source": [
    "## Basic operations on dataframes"
   ]
  },
  {
   "cell_type": "markdown",
   "metadata": {},
   "source": [
    "Before hacking/adding your own data of interest, let's see how to remove, filter, load and save a dataframe."
   ]
  },
  {
   "cell_type": "markdown",
   "metadata": {},
   "source": [
    "### Remove columns"
   ]
  },
  {
   "cell_type": "markdown",
   "metadata": {},
   "source": [
    "You may want to remove columns that are irrelevant for your needs. The best way to do this in pandas is to use `drop`:"
   ]
  },
  {
   "cell_type": "code",
   "execution_count": 6,
   "metadata": {},
   "outputs": [
    {
     "data": {
      "text/html": [
       "<div>\n",
       "<style scoped>\n",
       "    .dataframe tbody tr th:only-of-type {\n",
       "        vertical-align: middle;\n",
       "    }\n",
       "\n",
       "    .dataframe tbody tr th {\n",
       "        vertical-align: top;\n",
       "    }\n",
       "\n",
       "    .dataframe thead th {\n",
       "        text-align: right;\n",
       "    }\n",
       "</style>\n",
       "<table border=\"1\" class=\"dataframe\">\n",
       "  <thead>\n",
       "    <tr style=\"text-align: right;\">\n",
       "      <th></th>\n",
       "      <th>id1</th>\n",
       "      <th>id2</th>\n",
       "      <th>length</th>\n",
       "      <th>score</th>\n",
       "      <th>length2</th>\n",
       "      <th>e_value</th>\n",
       "      <th>identities</th>\n",
       "      <th>gaps</th>\n",
       "    </tr>\n",
       "  </thead>\n",
       "  <tbody>\n",
       "    <tr>\n",
       "      <th>0</th>\n",
       "      <td>DRR001369.139725</td>\n",
       "      <td>GEKBKKN08I5SM9</td>\n",
       "      <td>597</td>\n",
       "      <td>128</td>\n",
       "      <td>69</td>\n",
       "      <td>8.000000e-30</td>\n",
       "      <td>69/69</td>\n",
       "      <td>0/69</td>\n",
       "    </tr>\n",
       "    <tr>\n",
       "      <th>1</th>\n",
       "      <td>DRR001369.139710</td>\n",
       "      <td>GEKBKKN08JJ5PQ</td>\n",
       "      <td>777</td>\n",
       "      <td>128</td>\n",
       "      <td>69</td>\n",
       "      <td>8.000000e-30</td>\n",
       "      <td>69/69</td>\n",
       "      <td>0/69</td>\n",
       "    </tr>\n",
       "    <tr>\n",
       "      <th>2</th>\n",
       "      <td>DRR001369.139705</td>\n",
       "      <td>GEKBKKN08JT0FI</td>\n",
       "      <td>594</td>\n",
       "      <td>128</td>\n",
       "      <td>69</td>\n",
       "      <td>8.000000e-30</td>\n",
       "      <td>69/69</td>\n",
       "      <td>0/69</td>\n",
       "    </tr>\n",
       "    <tr>\n",
       "      <th>3</th>\n",
       "      <td>DRR001369.139692</td>\n",
       "      <td>GEKBKKN08I64FT</td>\n",
       "      <td>604</td>\n",
       "      <td>128</td>\n",
       "      <td>69</td>\n",
       "      <td>8.000000e-30</td>\n",
       "      <td>69/69</td>\n",
       "      <td>0/69</td>\n",
       "    </tr>\n",
       "    <tr>\n",
       "      <th>4</th>\n",
       "      <td>DRR001369.139691</td>\n",
       "      <td>GEKBKKN08JPHFU</td>\n",
       "      <td>517</td>\n",
       "      <td>128</td>\n",
       "      <td>69</td>\n",
       "      <td>8.000000e-30</td>\n",
       "      <td>69/69</td>\n",
       "      <td>0/69</td>\n",
       "    </tr>\n",
       "  </tbody>\n",
       "</table>\n",
       "</div>"
      ],
      "text/plain": [
       "                id1             id2  length  score  length2       e_value  \\\n",
       "0  DRR001369.139725  GEKBKKN08I5SM9     597    128       69  8.000000e-30   \n",
       "1  DRR001369.139710  GEKBKKN08JJ5PQ     777    128       69  8.000000e-30   \n",
       "2  DRR001369.139705  GEKBKKN08JT0FI     594    128       69  8.000000e-30   \n",
       "3  DRR001369.139692  GEKBKKN08I64FT     604    128       69  8.000000e-30   \n",
       "4  DRR001369.139691  GEKBKKN08JPHFU     517    128       69  8.000000e-30   \n",
       "\n",
       "  identities  gaps  \n",
       "0      69/69  0/69  \n",
       "1      69/69  0/69  \n",
       "2      69/69  0/69  \n",
       "3      69/69  0/69  \n",
       "4      69/69  0/69  "
      ]
     },
     "execution_count": 6,
     "metadata": {},
     "output_type": "execute_result"
    }
   ],
   "source": [
    "blast_output_new = blast_output.drop('strand', 1)  # create a new dataframe without the column `strand`\n",
    "blast_output_new.head()"
   ]
  },
  {
   "cell_type": "markdown",
   "metadata": {},
   "source": [
    "To delete the column without having to reassign the dataframe you can do:"
   ]
  },
  {
   "cell_type": "code",
   "execution_count": 7,
   "metadata": {},
   "outputs": [
    {
     "data": {
      "text/html": [
       "<div>\n",
       "<style scoped>\n",
       "    .dataframe tbody tr th:only-of-type {\n",
       "        vertical-align: middle;\n",
       "    }\n",
       "\n",
       "    .dataframe tbody tr th {\n",
       "        vertical-align: top;\n",
       "    }\n",
       "\n",
       "    .dataframe thead th {\n",
       "        text-align: right;\n",
       "    }\n",
       "</style>\n",
       "<table border=\"1\" class=\"dataframe\">\n",
       "  <thead>\n",
       "    <tr style=\"text-align: right;\">\n",
       "      <th></th>\n",
       "      <th>id1</th>\n",
       "      <th>id2</th>\n",
       "      <th>length</th>\n",
       "      <th>score</th>\n",
       "      <th>length2</th>\n",
       "      <th>e_value</th>\n",
       "      <th>identities</th>\n",
       "      <th>gaps</th>\n",
       "    </tr>\n",
       "  </thead>\n",
       "  <tbody>\n",
       "    <tr>\n",
       "      <th>0</th>\n",
       "      <td>DRR001369.139725</td>\n",
       "      <td>GEKBKKN08I5SM9</td>\n",
       "      <td>597</td>\n",
       "      <td>128</td>\n",
       "      <td>69</td>\n",
       "      <td>8.000000e-30</td>\n",
       "      <td>69/69</td>\n",
       "      <td>0/69</td>\n",
       "    </tr>\n",
       "    <tr>\n",
       "      <th>1</th>\n",
       "      <td>DRR001369.139710</td>\n",
       "      <td>GEKBKKN08JJ5PQ</td>\n",
       "      <td>777</td>\n",
       "      <td>128</td>\n",
       "      <td>69</td>\n",
       "      <td>8.000000e-30</td>\n",
       "      <td>69/69</td>\n",
       "      <td>0/69</td>\n",
       "    </tr>\n",
       "    <tr>\n",
       "      <th>2</th>\n",
       "      <td>DRR001369.139705</td>\n",
       "      <td>GEKBKKN08JT0FI</td>\n",
       "      <td>594</td>\n",
       "      <td>128</td>\n",
       "      <td>69</td>\n",
       "      <td>8.000000e-30</td>\n",
       "      <td>69/69</td>\n",
       "      <td>0/69</td>\n",
       "    </tr>\n",
       "    <tr>\n",
       "      <th>3</th>\n",
       "      <td>DRR001369.139692</td>\n",
       "      <td>GEKBKKN08I64FT</td>\n",
       "      <td>604</td>\n",
       "      <td>128</td>\n",
       "      <td>69</td>\n",
       "      <td>8.000000e-30</td>\n",
       "      <td>69/69</td>\n",
       "      <td>0/69</td>\n",
       "    </tr>\n",
       "    <tr>\n",
       "      <th>4</th>\n",
       "      <td>DRR001369.139691</td>\n",
       "      <td>GEKBKKN08JPHFU</td>\n",
       "      <td>517</td>\n",
       "      <td>128</td>\n",
       "      <td>69</td>\n",
       "      <td>8.000000e-30</td>\n",
       "      <td>69/69</td>\n",
       "      <td>0/69</td>\n",
       "    </tr>\n",
       "  </tbody>\n",
       "</table>\n",
       "</div>"
      ],
      "text/plain": [
       "                id1             id2  length  score  length2       e_value  \\\n",
       "0  DRR001369.139725  GEKBKKN08I5SM9     597    128       69  8.000000e-30   \n",
       "1  DRR001369.139710  GEKBKKN08JJ5PQ     777    128       69  8.000000e-30   \n",
       "2  DRR001369.139705  GEKBKKN08JT0FI     594    128       69  8.000000e-30   \n",
       "3  DRR001369.139692  GEKBKKN08I64FT     604    128       69  8.000000e-30   \n",
       "4  DRR001369.139691  GEKBKKN08JPHFU     517    128       69  8.000000e-30   \n",
       "\n",
       "  identities  gaps  \n",
       "0      69/69  0/69  \n",
       "1      69/69  0/69  \n",
       "2      69/69  0/69  \n",
       "3      69/69  0/69  \n",
       "4      69/69  0/69  "
      ]
     },
     "execution_count": 7,
     "metadata": {},
     "output_type": "execute_result"
    }
   ],
   "source": [
    "blast_output.drop('strand', axis=1, inplace=True)  # remove the column `strand` from `blast_output`\n",
    "blast_output.head()"
   ]
  },
  {
   "cell_type": "markdown",
   "metadata": {},
   "source": [
    "### Filter records"
   ]
  },
  {
   "cell_type": "markdown",
   "metadata": {},
   "source": [
    "Depending on your query, the dataframe may contain a lot of records. You might want to select only those relevant for your needs with [`query`](http://pandas.pydata.org/pandas-docs/stable/reference/api/pandas.DataFrame.query.html)."
   ]
  },
  {
   "cell_type": "code",
   "execution_count": 8,
   "metadata": {},
   "outputs": [
    {
     "data": {
      "text/html": [
       "<div>\n",
       "<style scoped>\n",
       "    .dataframe tbody tr th:only-of-type {\n",
       "        vertical-align: middle;\n",
       "    }\n",
       "\n",
       "    .dataframe tbody tr th {\n",
       "        vertical-align: top;\n",
       "    }\n",
       "\n",
       "    .dataframe thead th {\n",
       "        text-align: right;\n",
       "    }\n",
       "</style>\n",
       "<table border=\"1\" class=\"dataframe\">\n",
       "  <thead>\n",
       "    <tr style=\"text-align: right;\">\n",
       "      <th></th>\n",
       "      <th>id1</th>\n",
       "      <th>id2</th>\n",
       "      <th>length</th>\n",
       "      <th>score</th>\n",
       "      <th>length2</th>\n",
       "      <th>e_value</th>\n",
       "      <th>identities</th>\n",
       "      <th>gaps</th>\n",
       "    </tr>\n",
       "  </thead>\n",
       "  <tbody>\n",
       "    <tr>\n",
       "      <th>0</th>\n",
       "      <td>DRR001369.139725</td>\n",
       "      <td>GEKBKKN08I5SM9</td>\n",
       "      <td>597</td>\n",
       "      <td>128</td>\n",
       "      <td>69</td>\n",
       "      <td>8.000000e-30</td>\n",
       "      <td>69/69</td>\n",
       "      <td>0/69</td>\n",
       "    </tr>\n",
       "    <tr>\n",
       "      <th>2</th>\n",
       "      <td>DRR001369.139705</td>\n",
       "      <td>GEKBKKN08JT0FI</td>\n",
       "      <td>594</td>\n",
       "      <td>128</td>\n",
       "      <td>69</td>\n",
       "      <td>8.000000e-30</td>\n",
       "      <td>69/69</td>\n",
       "      <td>0/69</td>\n",
       "    </tr>\n",
       "    <tr>\n",
       "      <th>3</th>\n",
       "      <td>DRR001369.139692</td>\n",
       "      <td>GEKBKKN08I64FT</td>\n",
       "      <td>604</td>\n",
       "      <td>128</td>\n",
       "      <td>69</td>\n",
       "      <td>8.000000e-30</td>\n",
       "      <td>69/69</td>\n",
       "      <td>0/69</td>\n",
       "    </tr>\n",
       "    <tr>\n",
       "      <th>4</th>\n",
       "      <td>DRR001369.139691</td>\n",
       "      <td>GEKBKKN08JPHFU</td>\n",
       "      <td>517</td>\n",
       "      <td>128</td>\n",
       "      <td>69</td>\n",
       "      <td>8.000000e-30</td>\n",
       "      <td>69/69</td>\n",
       "      <td>0/69</td>\n",
       "    </tr>\n",
       "    <tr>\n",
       "      <th>5</th>\n",
       "      <td>DRR001369.139687</td>\n",
       "      <td>GEKBKKN08I7I7W</td>\n",
       "      <td>672</td>\n",
       "      <td>128</td>\n",
       "      <td>69</td>\n",
       "      <td>8.000000e-30</td>\n",
       "      <td>69/69</td>\n",
       "      <td>0/69</td>\n",
       "    </tr>\n",
       "  </tbody>\n",
       "</table>\n",
       "</div>"
      ],
      "text/plain": [
       "                id1             id2  length  score  length2       e_value  \\\n",
       "0  DRR001369.139725  GEKBKKN08I5SM9     597    128       69  8.000000e-30   \n",
       "2  DRR001369.139705  GEKBKKN08JT0FI     594    128       69  8.000000e-30   \n",
       "3  DRR001369.139692  GEKBKKN08I64FT     604    128       69  8.000000e-30   \n",
       "4  DRR001369.139691  GEKBKKN08JPHFU     517    128       69  8.000000e-30   \n",
       "5  DRR001369.139687  GEKBKKN08I7I7W     672    128       69  8.000000e-30   \n",
       "\n",
       "  identities  gaps  \n",
       "0      69/69  0/69  \n",
       "2      69/69  0/69  \n",
       "3      69/69  0/69  \n",
       "4      69/69  0/69  \n",
       "5      69/69  0/69  "
      ]
     },
     "execution_count": 8,
     "metadata": {},
     "output_type": "execute_result"
    }
   ],
   "source": [
    "blast_output.query('length<700').head()  # Keep only records w/ length<700"
   ]
  },
  {
   "cell_type": "markdown",
   "metadata": {},
   "source": [
    "### Load and save a dataframe"
   ]
  },
  {
   "cell_type": "markdown",
   "metadata": {},
   "source": [
    "You can save a dataframe with:"
   ]
  },
  {
   "cell_type": "code",
   "execution_count": 9,
   "metadata": {},
   "outputs": [],
   "source": [
    "blast_output.to_pickle(\"blast_output.pkl\")"
   ]
  },
  {
   "cell_type": "markdown",
   "metadata": {},
   "source": [
    "You can load a saved dataframe with:"
   ]
  },
  {
   "cell_type": "code",
   "execution_count": 10,
   "metadata": {},
   "outputs": [
    {
     "data": {
      "text/html": [
       "<div>\n",
       "<style scoped>\n",
       "    .dataframe tbody tr th:only-of-type {\n",
       "        vertical-align: middle;\n",
       "    }\n",
       "\n",
       "    .dataframe tbody tr th {\n",
       "        vertical-align: top;\n",
       "    }\n",
       "\n",
       "    .dataframe thead th {\n",
       "        text-align: right;\n",
       "    }\n",
       "</style>\n",
       "<table border=\"1\" class=\"dataframe\">\n",
       "  <thead>\n",
       "    <tr style=\"text-align: right;\">\n",
       "      <th></th>\n",
       "      <th>id1</th>\n",
       "      <th>id2</th>\n",
       "      <th>length</th>\n",
       "      <th>score</th>\n",
       "      <th>length2</th>\n",
       "      <th>e_value</th>\n",
       "      <th>identities</th>\n",
       "      <th>gaps</th>\n",
       "    </tr>\n",
       "  </thead>\n",
       "  <tbody>\n",
       "    <tr>\n",
       "      <th>0</th>\n",
       "      <td>DRR001369.139725</td>\n",
       "      <td>GEKBKKN08I5SM9</td>\n",
       "      <td>597</td>\n",
       "      <td>128</td>\n",
       "      <td>69</td>\n",
       "      <td>8.000000e-30</td>\n",
       "      <td>69/69</td>\n",
       "      <td>0/69</td>\n",
       "    </tr>\n",
       "    <tr>\n",
       "      <th>1</th>\n",
       "      <td>DRR001369.139710</td>\n",
       "      <td>GEKBKKN08JJ5PQ</td>\n",
       "      <td>777</td>\n",
       "      <td>128</td>\n",
       "      <td>69</td>\n",
       "      <td>8.000000e-30</td>\n",
       "      <td>69/69</td>\n",
       "      <td>0/69</td>\n",
       "    </tr>\n",
       "    <tr>\n",
       "      <th>2</th>\n",
       "      <td>DRR001369.139705</td>\n",
       "      <td>GEKBKKN08JT0FI</td>\n",
       "      <td>594</td>\n",
       "      <td>128</td>\n",
       "      <td>69</td>\n",
       "      <td>8.000000e-30</td>\n",
       "      <td>69/69</td>\n",
       "      <td>0/69</td>\n",
       "    </tr>\n",
       "    <tr>\n",
       "      <th>3</th>\n",
       "      <td>DRR001369.139692</td>\n",
       "      <td>GEKBKKN08I64FT</td>\n",
       "      <td>604</td>\n",
       "      <td>128</td>\n",
       "      <td>69</td>\n",
       "      <td>8.000000e-30</td>\n",
       "      <td>69/69</td>\n",
       "      <td>0/69</td>\n",
       "    </tr>\n",
       "    <tr>\n",
       "      <th>4</th>\n",
       "      <td>DRR001369.139691</td>\n",
       "      <td>GEKBKKN08JPHFU</td>\n",
       "      <td>517</td>\n",
       "      <td>128</td>\n",
       "      <td>69</td>\n",
       "      <td>8.000000e-30</td>\n",
       "      <td>69/69</td>\n",
       "      <td>0/69</td>\n",
       "    </tr>\n",
       "  </tbody>\n",
       "</table>\n",
       "</div>"
      ],
      "text/plain": [
       "                id1             id2  length  score  length2       e_value  \\\n",
       "0  DRR001369.139725  GEKBKKN08I5SM9     597    128       69  8.000000e-30   \n",
       "1  DRR001369.139710  GEKBKKN08JJ5PQ     777    128       69  8.000000e-30   \n",
       "2  DRR001369.139705  GEKBKKN08JT0FI     594    128       69  8.000000e-30   \n",
       "3  DRR001369.139692  GEKBKKN08I64FT     604    128       69  8.000000e-30   \n",
       "4  DRR001369.139691  GEKBKKN08JPHFU     517    128       69  8.000000e-30   \n",
       "\n",
       "  identities  gaps  \n",
       "0      69/69  0/69  \n",
       "1      69/69  0/69  \n",
       "2      69/69  0/69  \n",
       "3      69/69  0/69  \n",
       "4      69/69  0/69  "
      ]
     },
     "execution_count": 10,
     "metadata": {},
     "output_type": "execute_result"
    }
   ],
   "source": [
    "pd.read_pickle(\"blast_output.pkl\").head()"
   ]
  },
  {
   "cell_type": "markdown",
   "metadata": {},
   "source": [
    "For more information, see the [Pandas documentation](http://pandas-docs.github.io/pandas-docs-travis/user_guide/io.html)."
   ]
  },
  {
   "cell_type": "markdown",
   "metadata": {},
   "source": [
    "## Enhance the index"
   ]
  },
  {
   "cell_type": "markdown",
   "metadata": {},
   "source": [
    "### Add related data"
   ]
  },
  {
   "cell_type": "markdown",
   "metadata": {},
   "source": [
    "Once the index is loaded and cleaned up according to your needs, you can add metadata / related data as columns to the dataframe. For instance, to compute the percentage of identity, you would need to define the following function:"
   ]
  },
  {
   "cell_type": "code",
   "execution_count": 11,
   "metadata": {},
   "outputs": [],
   "source": [
    "def identity_percent(identities):\n",
    "    \"\"\"Compute % identity\"\"\"\n",
    "    numerator = float(identities[:identities.find(\"/\")])\n",
    "    denominator = float(identities[identities.find(\"/\")+1:])\n",
    "    return  numerator / denominator"
   ]
  },
  {
   "cell_type": "markdown",
   "metadata": {},
   "source": [
    "Once the function is defined, it can be applied to the dataframe to add a new column, as follows:"
   ]
  },
  {
   "cell_type": "code",
   "execution_count": 12,
   "metadata": {},
   "outputs": [],
   "source": [
    "blast_output['identity_percent'] = blast_output.apply(lambda x: identity_percent(x['identities']), axis=1)"
   ]
  },
  {
   "cell_type": "markdown",
   "metadata": {},
   "source": [
    "Printing `blast_output` shows the extra column, with the proper name and calculated values:"
   ]
  },
  {
   "cell_type": "code",
   "execution_count": 13,
   "metadata": {},
   "outputs": [
    {
     "data": {
      "text/html": [
       "<div>\n",
       "<style scoped>\n",
       "    .dataframe tbody tr th:only-of-type {\n",
       "        vertical-align: middle;\n",
       "    }\n",
       "\n",
       "    .dataframe tbody tr th {\n",
       "        vertical-align: top;\n",
       "    }\n",
       "\n",
       "    .dataframe thead th {\n",
       "        text-align: right;\n",
       "    }\n",
       "</style>\n",
       "<table border=\"1\" class=\"dataframe\">\n",
       "  <thead>\n",
       "    <tr style=\"text-align: right;\">\n",
       "      <th></th>\n",
       "      <th>id1</th>\n",
       "      <th>id2</th>\n",
       "      <th>length</th>\n",
       "      <th>score</th>\n",
       "      <th>length2</th>\n",
       "      <th>e_value</th>\n",
       "      <th>identities</th>\n",
       "      <th>gaps</th>\n",
       "      <th>identity_percent</th>\n",
       "    </tr>\n",
       "  </thead>\n",
       "  <tbody>\n",
       "    <tr>\n",
       "      <th>0</th>\n",
       "      <td>DRR001369.139725</td>\n",
       "      <td>GEKBKKN08I5SM9</td>\n",
       "      <td>597</td>\n",
       "      <td>128</td>\n",
       "      <td>69</td>\n",
       "      <td>8.000000e-30</td>\n",
       "      <td>69/69</td>\n",
       "      <td>0/69</td>\n",
       "      <td>1.0</td>\n",
       "    </tr>\n",
       "    <tr>\n",
       "      <th>1</th>\n",
       "      <td>DRR001369.139710</td>\n",
       "      <td>GEKBKKN08JJ5PQ</td>\n",
       "      <td>777</td>\n",
       "      <td>128</td>\n",
       "      <td>69</td>\n",
       "      <td>8.000000e-30</td>\n",
       "      <td>69/69</td>\n",
       "      <td>0/69</td>\n",
       "      <td>1.0</td>\n",
       "    </tr>\n",
       "    <tr>\n",
       "      <th>2</th>\n",
       "      <td>DRR001369.139705</td>\n",
       "      <td>GEKBKKN08JT0FI</td>\n",
       "      <td>594</td>\n",
       "      <td>128</td>\n",
       "      <td>69</td>\n",
       "      <td>8.000000e-30</td>\n",
       "      <td>69/69</td>\n",
       "      <td>0/69</td>\n",
       "      <td>1.0</td>\n",
       "    </tr>\n",
       "    <tr>\n",
       "      <th>3</th>\n",
       "      <td>DRR001369.139692</td>\n",
       "      <td>GEKBKKN08I64FT</td>\n",
       "      <td>604</td>\n",
       "      <td>128</td>\n",
       "      <td>69</td>\n",
       "      <td>8.000000e-30</td>\n",
       "      <td>69/69</td>\n",
       "      <td>0/69</td>\n",
       "      <td>1.0</td>\n",
       "    </tr>\n",
       "    <tr>\n",
       "      <th>4</th>\n",
       "      <td>DRR001369.139691</td>\n",
       "      <td>GEKBKKN08JPHFU</td>\n",
       "      <td>517</td>\n",
       "      <td>128</td>\n",
       "      <td>69</td>\n",
       "      <td>8.000000e-30</td>\n",
       "      <td>69/69</td>\n",
       "      <td>0/69</td>\n",
       "      <td>1.0</td>\n",
       "    </tr>\n",
       "  </tbody>\n",
       "</table>\n",
       "</div>"
      ],
      "text/plain": [
       "                id1             id2  length  score  length2       e_value  \\\n",
       "0  DRR001369.139725  GEKBKKN08I5SM9     597    128       69  8.000000e-30   \n",
       "1  DRR001369.139710  GEKBKKN08JJ5PQ     777    128       69  8.000000e-30   \n",
       "2  DRR001369.139705  GEKBKKN08JT0FI     594    128       69  8.000000e-30   \n",
       "3  DRR001369.139692  GEKBKKN08I64FT     604    128       69  8.000000e-30   \n",
       "4  DRR001369.139691  GEKBKKN08JPHFU     517    128       69  8.000000e-30   \n",
       "\n",
       "  identities  gaps  identity_percent  \n",
       "0      69/69  0/69               1.0  \n",
       "1      69/69  0/69               1.0  \n",
       "2      69/69  0/69               1.0  \n",
       "3      69/69  0/69               1.0  \n",
       "4      69/69  0/69               1.0  "
      ]
     },
     "execution_count": 13,
     "metadata": {},
     "output_type": "execute_result"
    }
   ],
   "source": [
    "blast_output.head()  # Show the first records, to check it works"
   ]
  },
  {
   "cell_type": "markdown",
   "metadata": {},
   "source": [
    "### Real-world example and external data"
   ]
  },
  {
   "cell_type": "markdown",
   "metadata": {},
   "source": [
    "The example function `identity_percent` above  was kept simple on purpose. In your own custom functions, you may want to access external data. [`Biopython`](https://biopython.org/wiki/Documentation) provides many other useful tools. In particular, it gives you access to the full power of [NCBI's Entrez data retrieval system](http://biopython.org/DIST/docs/tutorial/Tutorial.html#htoc116). Its [efetch](http://biopython.org/DIST/docs/api/Bio.Entrez-module.html#efetch) function can query SRA directly. See [here](https://github.com/nelas/sra.py/blob/master/sra.py) for examples. Advanced queries can be built with this [web interface](https://www.ncbi.nlm.nih.gov/sra/advanced).\n",
    "\n",
    "If you want to query SRA's metadata quickly, an alternative is to download them locally as a compressed SQLite3 database (2.5 Gb, 37 Gb once extracted) from [this lab](http://gbnci.abcc.ncifcrf.gov/sra/index.php) ([direct link](https://gbnci-abcc.ncifcrf.gov/backup/SRAmetadb.sqlite.gz), [mirror](https://s3.amazonaws.com/starbuck1/sradb/SRAmetadb.sqlite.gz)). To use these metadata, either use `sqlite3` [directly](https://edwards.sdsu.edu/research/sra-metadata/) or try [pysradb](https://saket-choudhary.me/pysradb/) ([example notebook](https://nbviewer.jupyter.org/github/saketkc/pysradb/blob/master/notebooks/01.SRAdb-demo.ipynb)).\n",
    "\n",
    "Example with `pysradb`:"
   ]
  },
  {
   "cell_type": "code",
   "execution_count": 15,
   "metadata": {},
   "outputs": [
    {
     "data": {
      "text/html": [
       "<div>\n",
       "<style scoped>\n",
       "    .dataframe tbody tr th:only-of-type {\n",
       "        vertical-align: middle;\n",
       "    }\n",
       "\n",
       "    .dataframe tbody tr th {\n",
       "        vertical-align: top;\n",
       "    }\n",
       "\n",
       "    .dataframe thead th {\n",
       "        text-align: right;\n",
       "    }\n",
       "</style>\n",
       "<table border=\"1\" class=\"dataframe\">\n",
       "  <thead>\n",
       "    <tr style=\"text-align: right;\">\n",
       "      <th></th>\n",
       "      <th>study_accession</th>\n",
       "      <th>experiment_accession</th>\n",
       "      <th>sample_accession</th>\n",
       "      <th>run_accession</th>\n",
       "      <th>experiment_title</th>\n",
       "      <th>experiment_attribute</th>\n",
       "      <th>sample_attribute</th>\n",
       "      <th>taxon_id</th>\n",
       "      <th>library_selection</th>\n",
       "      <th>library_layout</th>\n",
       "      <th>library_strategy</th>\n",
       "      <th>library_source</th>\n",
       "      <th>library_name</th>\n",
       "      <th>bases</th>\n",
       "      <th>spots</th>\n",
       "      <th>adapter_spec</th>\n",
       "      <th>avg_read_length</th>\n",
       "    </tr>\n",
       "  </thead>\n",
       "  <tbody>\n",
       "    <tr>\n",
       "      <th>0</th>\n",
       "      <td>DRP000451</td>\n",
       "      <td>DRX000965</td>\n",
       "      <td>DRS000920</td>\n",
       "      <td>DRR001369</td>\n",
       "      <td>fungal community of traditional Korean alcohol...</td>\n",
       "      <td>None</td>\n",
       "      <td>sample_name: DRS000920 || sample comment: In t...</td>\n",
       "      <td>870726</td>\n",
       "      <td>PCR</td>\n",
       "      <td>SINGLE -</td>\n",
       "      <td>AMPLICON</td>\n",
       "      <td>METAGENOMIC</td>\n",
       "      <td>microbial community of traditional Korean alco...</td>\n",
       "      <td>83371775</td>\n",
       "      <td>139727</td>\n",
       "      <td>None</td>\n",
       "      <td>596.676197</td>\n",
       "    </tr>\n",
       "  </tbody>\n",
       "</table>\n",
       "</div>"
      ],
      "text/plain": [
       "  study_accession experiment_accession sample_accession run_accession  \\\n",
       "0       DRP000451            DRX000965        DRS000920     DRR001369   \n",
       "\n",
       "                                    experiment_title experiment_attribute  \\\n",
       "0  fungal community of traditional Korean alcohol...                 None   \n",
       "\n",
       "                                    sample_attribute  taxon_id  \\\n",
       "0  sample_name: DRS000920 || sample comment: In t...    870726   \n",
       "\n",
       "  library_selection library_layout library_strategy library_source  \\\n",
       "0               PCR      SINGLE -          AMPLICON    METAGENOMIC   \n",
       "\n",
       "                                        library_name     bases   spots  \\\n",
       "0  microbial community of traditional Korean alco...  83371775  139727   \n",
       "\n",
       "  adapter_spec  avg_read_length  \n",
       "0         None       596.676197  "
      ]
     },
     "execution_count": 15,
     "metadata": {},
     "output_type": "execute_result"
    }
   ],
   "source": [
    "# This code will not work since the sradb file has to be downloaded first\n",
    "from pysradb import SRAdb, download_sradb_file\n",
    "\n",
    "# Uncomment the next line if you haven't downloaded `SRAmetadb.sqlite` yet.\n",
    "# download_sradb_file()\n",
    "\n",
    "db = SRAdb('SRAmetadb.sqlite')\n",
    "df = db.sra_metadata('DRR001369', detailed=True)\n",
    "df.head()"
   ]
  },
  {
   "cell_type": "markdown",
   "metadata": {},
   "source": [
    "Note:\n",
    "\n",
    "- On GNU/Linux, SRA can be mounted locally with a FUSE-module called [fusera](https://github.com/mitre/fusera).\n",
    "- You can also access SRA from your browser [here]( https://www.ncbi.nlm.nih.gov/sra), [browse runs](https://trace.ncbi.nlm.nih.gov/Traces/sra/?run=DRR001369), etc."
   ]
  }
 ],
 "metadata": {
  "kernelspec": {
   "display_name": "Python 3",
   "language": "python",
   "name": "python3"
  },
  "language_info": {
   "codemirror_mode": {
    "name": "ipython",
    "version": 3
   },
   "file_extension": ".py",
   "mimetype": "text/x-python",
   "name": "python",
   "nbconvert_exporter": "python",
   "pygments_lexer": "ipython3",
   "version": "3.7.3"
  }
 },
 "nbformat": 4,
 "nbformat_minor": 2
}
