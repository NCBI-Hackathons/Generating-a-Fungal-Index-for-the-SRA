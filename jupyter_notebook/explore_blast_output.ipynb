{
 "cells": [
  {
   "cell_type": "markdown",
   "metadata": {},
   "source": [
    "# Explore the BLAST output"
   ]
  },
  {
   "cell_type": "markdown",
   "metadata": {},
   "source": [
    "This Jupyter notebook shows how to load and enhance the results of a distributed BLAST against the [NCBI's Sequence Read Archive (SRA)](https://www.ncbi.nlm.nih.gov/sra). For more/up-to-date information, please check [GitHub Wiki](https://github.com/NCBI-Hackathons/Generating-a-Fungal-Index-for-the-SRA/wiki)."
   ]
  },
  {
   "cell_type": "markdown",
   "metadata": {},
   "source": [
    "## Install dependencies"
   ]
  },
  {
   "cell_type": "markdown",
   "metadata": {},
   "source": [
    "This notebook requires [`pandas`](http://pandas.pydata.org/) and [`pysradb`](https://saket-choudhary.me/pysradb/) to be installed:"
   ]
  },
  {
   "cell_type": "code",
   "execution_count": 1,
   "metadata": {},
   "outputs": [
    {
     "name": "stdout",
     "output_type": "stream",
     "text": [
      "Requirement already satisfied: pandas in /home/aurelien/activite/latitude77/realisation/find/sra/blast_output_parser/ve/lib/python3.7/site-packages (0.24.2)\r\n",
      "Requirement already satisfied: numpy>=1.12.0 in /home/aurelien/activite/latitude77/realisation/find/sra/blast_output_parser/ve/lib/python3.7/site-packages (from pandas) (1.16.2)\r\n",
      "Requirement already satisfied: pytz>=2011k in /home/aurelien/activite/latitude77/realisation/find/sra/blast_output_parser/ve/lib/python3.7/site-packages (from pandas) (2019.1)\r\n",
      "Requirement already satisfied: python-dateutil>=2.5.0 in /home/aurelien/activite/latitude77/realisation/find/sra/blast_output_parser/ve/lib/python3.7/site-packages (from pandas) (2.8.0)\r\n",
      "Requirement already satisfied: six>=1.5 in /home/aurelien/activite/latitude77/realisation/find/sra/blast_output_parser/ve/lib/python3.7/site-packages (from python-dateutil>=2.5.0->pandas) (1.12.0)\r\n"
     ]
    }
   ],
   "source": [
    "! pip install pandas"
   ]
  },
  {
   "cell_type": "code",
   "execution_count": 2,
   "metadata": {},
   "outputs": [
    {
     "name": "stdout",
     "output_type": "stream",
     "text": [
      "Requirement already satisfied: pysradb in /home/aurelien/activite/latitude77/realisation/find/sra/blast_output_parser/ve/lib/python3.7/site-packages (0.9.0)\n",
      "Requirement already satisfied: pandas>=0.23.4 in /home/aurelien/activite/latitude77/realisation/find/sra/blast_output_parser/ve/lib/python3.7/site-packages (from pysradb) (0.24.2)\n",
      "Requirement already satisfied: tqdm>=4.28 in /home/aurelien/activite/latitude77/realisation/find/sra/blast_output_parser/ve/lib/python3.7/site-packages (from pysradb) (4.31.1)\n",
      "Requirement already satisfied: python-dateutil>=2.5.0 in /home/aurelien/activite/latitude77/realisation/find/sra/blast_output_parser/ve/lib/python3.7/site-packages (from pandas>=0.23.4->pysradb) (2.8.0)\n",
      "Requirement already satisfied: numpy>=1.12.0 in /home/aurelien/activite/latitude77/realisation/find/sra/blast_output_parser/ve/lib/python3.7/site-packages (from pandas>=0.23.4->pysradb) (1.16.2)\n",
      "Requirement already satisfied: pytz>=2011k in /home/aurelien/activite/latitude77/realisation/find/sra/blast_output_parser/ve/lib/python3.7/site-packages (from pandas>=0.23.4->pysradb) (2019.1)\n",
      "Requirement already satisfied: six>=1.5 in /home/aurelien/activite/latitude77/realisation/find/sra/blast_output_parser/ve/lib/python3.7/site-packages (from python-dateutil>=2.5.0->pandas>=0.23.4->pysradb) (1.12.0)\n"
     ]
    }
   ],
   "source": [
    "! pip install pysradb"
   ]
  },
  {
   "cell_type": "markdown",
   "metadata": {},
   "source": [
    "Note: you may want to add the `--user` flag if you're working with your system's Python. To manage your own different versions of Python, we recommend [`pyenv`](https://github.com/pyenv/pyenv/) and its [`pyenv-virtualenv`](https://github.com/pyenv/pyenv-virtualenv) plugin."
   ]
  },
  {
   "cell_type": "markdown",
   "metadata": {},
   "source": [
    "## Load the BLAST output"
   ]
  },
  {
   "cell_type": "markdown",
   "metadata": {},
   "source": [
    "Set the name of the distributed BLAST output file to load (use `Tab` to autocomplete):"
   ]
  },
  {
   "cell_type": "code",
   "execution_count": 3,
   "metadata": {},
   "outputs": [],
   "source": [
    "blast_output_filename = \"sample_blast_output.parsed\""
   ]
  },
  {
   "cell_type": "markdown",
   "metadata": {},
   "source": [
    "Load it into a [Pandas](https://pandas.pydata.org/) dataframe (for more information, please check the [dataframe documentation](https://pandas.pydata.org/pandas-docs/stable/reference/api/pandas.DataFrame.html)):"
   ]
  },
  {
   "cell_type": "code",
   "execution_count": 4,
   "metadata": {},
   "outputs": [],
   "source": [
    "import pandas as pd\n",
    "\n",
    "blast_output = pd.read_csv(blast_output_filename, sep=\" \")"
   ]
  },
  {
   "cell_type": "markdown",
   "metadata": {},
   "source": [
    "Show the blast output:"
   ]
  },
  {
   "cell_type": "code",
   "execution_count": 5,
   "metadata": {},
   "outputs": [
    {
     "data": {
      "text/html": [
       "<div>\n",
       "<style scoped>\n",
       "    .dataframe tbody tr th:only-of-type {\n",
       "        vertical-align: middle;\n",
       "    }\n",
       "\n",
       "    .dataframe tbody tr th {\n",
       "        vertical-align: top;\n",
       "    }\n",
       "\n",
       "    .dataframe thead th {\n",
       "        text-align: right;\n",
       "    }\n",
       "</style>\n",
       "<table border=\"1\" class=\"dataframe\">\n",
       "  <thead>\n",
       "    <tr style=\"text-align: right;\">\n",
       "      <th></th>\n",
       "      <th>id1</th>\n",
       "      <th>id2</th>\n",
       "      <th>length</th>\n",
       "      <th>score</th>\n",
       "      <th>length2</th>\n",
       "      <th>e_value</th>\n",
       "      <th>identities</th>\n",
       "      <th>gaps</th>\n",
       "      <th>strand</th>\n",
       "    </tr>\n",
       "  </thead>\n",
       "  <tbody>\n",
       "    <tr>\n",
       "      <th>0</th>\n",
       "      <td>DRR001369.139725</td>\n",
       "      <td>GEKBKKN08I5SM9</td>\n",
       "      <td>597</td>\n",
       "      <td>128</td>\n",
       "      <td>69</td>\n",
       "      <td>8.000000e-30</td>\n",
       "      <td>69/69</td>\n",
       "      <td>0/69</td>\n",
       "      <td>Plus/Plus</td>\n",
       "    </tr>\n",
       "    <tr>\n",
       "      <th>1</th>\n",
       "      <td>DRR001369.139710</td>\n",
       "      <td>GEKBKKN08JJ5PQ</td>\n",
       "      <td>777</td>\n",
       "      <td>128</td>\n",
       "      <td>69</td>\n",
       "      <td>8.000000e-30</td>\n",
       "      <td>69/69</td>\n",
       "      <td>0/69</td>\n",
       "      <td>Plus/Plus</td>\n",
       "    </tr>\n",
       "    <tr>\n",
       "      <th>2</th>\n",
       "      <td>DRR001369.139705</td>\n",
       "      <td>GEKBKKN08JT0FI</td>\n",
       "      <td>594</td>\n",
       "      <td>128</td>\n",
       "      <td>69</td>\n",
       "      <td>8.000000e-30</td>\n",
       "      <td>69/69</td>\n",
       "      <td>0/69</td>\n",
       "      <td>Plus/Plus</td>\n",
       "    </tr>\n",
       "    <tr>\n",
       "      <th>3</th>\n",
       "      <td>DRR001369.139692</td>\n",
       "      <td>GEKBKKN08I64FT</td>\n",
       "      <td>604</td>\n",
       "      <td>128</td>\n",
       "      <td>69</td>\n",
       "      <td>8.000000e-30</td>\n",
       "      <td>69/69</td>\n",
       "      <td>0/69</td>\n",
       "      <td>Plus/Plus</td>\n",
       "    </tr>\n",
       "    <tr>\n",
       "      <th>4</th>\n",
       "      <td>DRR001369.139691</td>\n",
       "      <td>GEKBKKN08JPHFU</td>\n",
       "      <td>517</td>\n",
       "      <td>128</td>\n",
       "      <td>69</td>\n",
       "      <td>8.000000e-30</td>\n",
       "      <td>69/69</td>\n",
       "      <td>0/69</td>\n",
       "      <td>Plus/Plus</td>\n",
       "    </tr>\n",
       "  </tbody>\n",
       "</table>\n",
       "</div>"
      ],
      "text/plain": [
       "                id1             id2  length  score  length2       e_value  \\\n",
       "0  DRR001369.139725  GEKBKKN08I5SM9     597    128       69  8.000000e-30   \n",
       "1  DRR001369.139710  GEKBKKN08JJ5PQ     777    128       69  8.000000e-30   \n",
       "2  DRR001369.139705  GEKBKKN08JT0FI     594    128       69  8.000000e-30   \n",
       "3  DRR001369.139692  GEKBKKN08I64FT     604    128       69  8.000000e-30   \n",
       "4  DRR001369.139691  GEKBKKN08JPHFU     517    128       69  8.000000e-30   \n",
       "\n",
       "  identities  gaps     strand  \n",
       "0      69/69  0/69  Plus/Plus  \n",
       "1      69/69  0/69  Plus/Plus  \n",
       "2      69/69  0/69  Plus/Plus  \n",
       "3      69/69  0/69  Plus/Plus  \n",
       "4      69/69  0/69  Plus/Plus  "
      ]
     },
     "execution_count": 5,
     "metadata": {},
     "output_type": "execute_result"
    }
   ],
   "source": [
    "blast_output.head()  # Show the first records"
   ]
  },
  {
   "cell_type": "markdown",
   "metadata": {},
   "source": [
    "## Basic operations on dataframes"
   ]
  },
  {
   "cell_type": "markdown",
   "metadata": {},
   "source": [
    "Before hacking/adding your own data of interest, let's see how to remove, filter, load and save a dataframe."
   ]
  },
  {
   "cell_type": "markdown",
   "metadata": {},
   "source": [
    "### Remove columns"
   ]
  },
  {
   "cell_type": "markdown",
   "metadata": {},
   "source": [
    "You may want to remove columns that are irrelevant for your needs. The best way to do this in pandas is to use `drop`:"
   ]
  },
  {
   "cell_type": "code",
   "execution_count": 6,
   "metadata": {},
   "outputs": [
    {
     "data": {
      "text/html": [
       "<div>\n",
       "<style scoped>\n",
       "    .dataframe tbody tr th:only-of-type {\n",
       "        vertical-align: middle;\n",
       "    }\n",
       "\n",
       "    .dataframe tbody tr th {\n",
       "        vertical-align: top;\n",
       "    }\n",
       "\n",
       "    .dataframe thead th {\n",
       "        text-align: right;\n",
       "    }\n",
       "</style>\n",
       "<table border=\"1\" class=\"dataframe\">\n",
       "  <thead>\n",
       "    <tr style=\"text-align: right;\">\n",
       "      <th></th>\n",
       "      <th>id1</th>\n",
       "      <th>id2</th>\n",
       "      <th>length</th>\n",
       "      <th>score</th>\n",
       "      <th>length2</th>\n",
       "      <th>e_value</th>\n",
       "      <th>identities</th>\n",
       "      <th>gaps</th>\n",
       "    </tr>\n",
       "  </thead>\n",
       "  <tbody>\n",
       "    <tr>\n",
       "      <th>0</th>\n",
       "      <td>DRR001369.139725</td>\n",
       "      <td>GEKBKKN08I5SM9</td>\n",
       "      <td>597</td>\n",
       "      <td>128</td>\n",
       "      <td>69</td>\n",
       "      <td>8.000000e-30</td>\n",
       "      <td>69/69</td>\n",
       "      <td>0/69</td>\n",
       "    </tr>\n",
       "    <tr>\n",
       "      <th>1</th>\n",
       "      <td>DRR001369.139710</td>\n",
       "      <td>GEKBKKN08JJ5PQ</td>\n",
       "      <td>777</td>\n",
       "      <td>128</td>\n",
       "      <td>69</td>\n",
       "      <td>8.000000e-30</td>\n",
       "      <td>69/69</td>\n",
       "      <td>0/69</td>\n",
       "    </tr>\n",
       "    <tr>\n",
       "      <th>2</th>\n",
       "      <td>DRR001369.139705</td>\n",
       "      <td>GEKBKKN08JT0FI</td>\n",
       "      <td>594</td>\n",
       "      <td>128</td>\n",
       "      <td>69</td>\n",
       "      <td>8.000000e-30</td>\n",
       "      <td>69/69</td>\n",
       "      <td>0/69</td>\n",
       "    </tr>\n",
       "    <tr>\n",
       "      <th>3</th>\n",
       "      <td>DRR001369.139692</td>\n",
       "      <td>GEKBKKN08I64FT</td>\n",
       "      <td>604</td>\n",
       "      <td>128</td>\n",
       "      <td>69</td>\n",
       "      <td>8.000000e-30</td>\n",
       "      <td>69/69</td>\n",
       "      <td>0/69</td>\n",
       "    </tr>\n",
       "    <tr>\n",
       "      <th>4</th>\n",
       "      <td>DRR001369.139691</td>\n",
       "      <td>GEKBKKN08JPHFU</td>\n",
       "      <td>517</td>\n",
       "      <td>128</td>\n",
       "      <td>69</td>\n",
       "      <td>8.000000e-30</td>\n",
       "      <td>69/69</td>\n",
       "      <td>0/69</td>\n",
       "    </tr>\n",
       "  </tbody>\n",
       "</table>\n",
       "</div>"
      ],
      "text/plain": [
       "                id1             id2  length  score  length2       e_value  \\\n",
       "0  DRR001369.139725  GEKBKKN08I5SM9     597    128       69  8.000000e-30   \n",
       "1  DRR001369.139710  GEKBKKN08JJ5PQ     777    128       69  8.000000e-30   \n",
       "2  DRR001369.139705  GEKBKKN08JT0FI     594    128       69  8.000000e-30   \n",
       "3  DRR001369.139692  GEKBKKN08I64FT     604    128       69  8.000000e-30   \n",
       "4  DRR001369.139691  GEKBKKN08JPHFU     517    128       69  8.000000e-30   \n",
       "\n",
       "  identities  gaps  \n",
       "0      69/69  0/69  \n",
       "1      69/69  0/69  \n",
       "2      69/69  0/69  \n",
       "3      69/69  0/69  \n",
       "4      69/69  0/69  "
      ]
     },
     "execution_count": 6,
     "metadata": {},
     "output_type": "execute_result"
    }
   ],
   "source": [
    "blast_output_new = blast_output.drop('strand', 1)  # create a new dataframe without the column `strand`\n",
    "blast_output_new.head()"
   ]
  },
  {
   "cell_type": "markdown",
   "metadata": {},
   "source": [
    "To delete the column without having to reassign the dataframe you can do:"
   ]
  },
  {
   "cell_type": "code",
   "execution_count": 7,
   "metadata": {},
   "outputs": [
    {
     "data": {
      "text/html": [
       "<div>\n",
       "<style scoped>\n",
       "    .dataframe tbody tr th:only-of-type {\n",
       "        vertical-align: middle;\n",
       "    }\n",
       "\n",
       "    .dataframe tbody tr th {\n",
       "        vertical-align: top;\n",
       "    }\n",
       "\n",
       "    .dataframe thead th {\n",
       "        text-align: right;\n",
       "    }\n",
       "</style>\n",
       "<table border=\"1\" class=\"dataframe\">\n",
       "  <thead>\n",
       "    <tr style=\"text-align: right;\">\n",
       "      <th></th>\n",
       "      <th>id1</th>\n",
       "      <th>id2</th>\n",
       "      <th>length</th>\n",
       "      <th>score</th>\n",
       "      <th>length2</th>\n",
       "      <th>e_value</th>\n",
       "      <th>identities</th>\n",
       "      <th>gaps</th>\n",
       "    </tr>\n",
       "  </thead>\n",
       "  <tbody>\n",
       "    <tr>\n",
       "      <th>0</th>\n",
       "      <td>DRR001369.139725</td>\n",
       "      <td>GEKBKKN08I5SM9</td>\n",
       "      <td>597</td>\n",
       "      <td>128</td>\n",
       "      <td>69</td>\n",
       "      <td>8.000000e-30</td>\n",
       "      <td>69/69</td>\n",
       "      <td>0/69</td>\n",
       "    </tr>\n",
       "    <tr>\n",
       "      <th>1</th>\n",
       "      <td>DRR001369.139710</td>\n",
       "      <td>GEKBKKN08JJ5PQ</td>\n",
       "      <td>777</td>\n",
       "      <td>128</td>\n",
       "      <td>69</td>\n",
       "      <td>8.000000e-30</td>\n",
       "      <td>69/69</td>\n",
       "      <td>0/69</td>\n",
       "    </tr>\n",
       "    <tr>\n",
       "      <th>2</th>\n",
       "      <td>DRR001369.139705</td>\n",
       "      <td>GEKBKKN08JT0FI</td>\n",
       "      <td>594</td>\n",
       "      <td>128</td>\n",
       "      <td>69</td>\n",
       "      <td>8.000000e-30</td>\n",
       "      <td>69/69</td>\n",
       "      <td>0/69</td>\n",
       "    </tr>\n",
       "    <tr>\n",
       "      <th>3</th>\n",
       "      <td>DRR001369.139692</td>\n",
       "      <td>GEKBKKN08I64FT</td>\n",
       "      <td>604</td>\n",
       "      <td>128</td>\n",
       "      <td>69</td>\n",
       "      <td>8.000000e-30</td>\n",
       "      <td>69/69</td>\n",
       "      <td>0/69</td>\n",
       "    </tr>\n",
       "    <tr>\n",
       "      <th>4</th>\n",
       "      <td>DRR001369.139691</td>\n",
       "      <td>GEKBKKN08JPHFU</td>\n",
       "      <td>517</td>\n",
       "      <td>128</td>\n",
       "      <td>69</td>\n",
       "      <td>8.000000e-30</td>\n",
       "      <td>69/69</td>\n",
       "      <td>0/69</td>\n",
       "    </tr>\n",
       "  </tbody>\n",
       "</table>\n",
       "</div>"
      ],
      "text/plain": [
       "                id1             id2  length  score  length2       e_value  \\\n",
       "0  DRR001369.139725  GEKBKKN08I5SM9     597    128       69  8.000000e-30   \n",
       "1  DRR001369.139710  GEKBKKN08JJ5PQ     777    128       69  8.000000e-30   \n",
       "2  DRR001369.139705  GEKBKKN08JT0FI     594    128       69  8.000000e-30   \n",
       "3  DRR001369.139692  GEKBKKN08I64FT     604    128       69  8.000000e-30   \n",
       "4  DRR001369.139691  GEKBKKN08JPHFU     517    128       69  8.000000e-30   \n",
       "\n",
       "  identities  gaps  \n",
       "0      69/69  0/69  \n",
       "1      69/69  0/69  \n",
       "2      69/69  0/69  \n",
       "3      69/69  0/69  \n",
       "4      69/69  0/69  "
      ]
     },
     "execution_count": 7,
     "metadata": {},
     "output_type": "execute_result"
    }
   ],
   "source": [
    "blast_output.drop('strand', axis=1, inplace=True)  # remove the column `strand` from `blast_output`\n",
    "blast_output.head()"
   ]
  },
  {
   "cell_type": "markdown",
   "metadata": {},
   "source": [
    "### Filter records"
   ]
  },
  {
   "cell_type": "markdown",
   "metadata": {},
   "source": [
    "Depending on your query, the dataframe may contain a lot of records. You might want to select only those relevant for your needs with [`query`](http://pandas.pydata.org/pandas-docs/stable/reference/api/pandas.DataFrame.query.html)."
   ]
  },
  {
   "cell_type": "code",
   "execution_count": 8,
   "metadata": {},
   "outputs": [
    {
     "data": {
      "text/html": [
       "<div>\n",
       "<style scoped>\n",
       "    .dataframe tbody tr th:only-of-type {\n",
       "        vertical-align: middle;\n",
       "    }\n",
       "\n",
       "    .dataframe tbody tr th {\n",
       "        vertical-align: top;\n",
       "    }\n",
       "\n",
       "    .dataframe thead th {\n",
       "        text-align: right;\n",
       "    }\n",
       "</style>\n",
       "<table border=\"1\" class=\"dataframe\">\n",
       "  <thead>\n",
       "    <tr style=\"text-align: right;\">\n",
       "      <th></th>\n",
       "      <th>id1</th>\n",
       "      <th>id2</th>\n",
       "      <th>length</th>\n",
       "      <th>score</th>\n",
       "      <th>length2</th>\n",
       "      <th>e_value</th>\n",
       "      <th>identities</th>\n",
       "      <th>gaps</th>\n",
       "    </tr>\n",
       "  </thead>\n",
       "  <tbody>\n",
       "    <tr>\n",
       "      <th>0</th>\n",
       "      <td>DRR001369.139725</td>\n",
       "      <td>GEKBKKN08I5SM9</td>\n",
       "      <td>597</td>\n",
       "      <td>128</td>\n",
       "      <td>69</td>\n",
       "      <td>8.000000e-30</td>\n",
       "      <td>69/69</td>\n",
       "      <td>0/69</td>\n",
       "    </tr>\n",
       "    <tr>\n",
       "      <th>2</th>\n",
       "      <td>DRR001369.139705</td>\n",
       "      <td>GEKBKKN08JT0FI</td>\n",
       "      <td>594</td>\n",
       "      <td>128</td>\n",
       "      <td>69</td>\n",
       "      <td>8.000000e-30</td>\n",
       "      <td>69/69</td>\n",
       "      <td>0/69</td>\n",
       "    </tr>\n",
       "    <tr>\n",
       "      <th>3</th>\n",
       "      <td>DRR001369.139692</td>\n",
       "      <td>GEKBKKN08I64FT</td>\n",
       "      <td>604</td>\n",
       "      <td>128</td>\n",
       "      <td>69</td>\n",
       "      <td>8.000000e-30</td>\n",
       "      <td>69/69</td>\n",
       "      <td>0/69</td>\n",
       "    </tr>\n",
       "    <tr>\n",
       "      <th>4</th>\n",
       "      <td>DRR001369.139691</td>\n",
       "      <td>GEKBKKN08JPHFU</td>\n",
       "      <td>517</td>\n",
       "      <td>128</td>\n",
       "      <td>69</td>\n",
       "      <td>8.000000e-30</td>\n",
       "      <td>69/69</td>\n",
       "      <td>0/69</td>\n",
       "    </tr>\n",
       "    <tr>\n",
       "      <th>5</th>\n",
       "      <td>DRR001369.139687</td>\n",
       "      <td>GEKBKKN08I7I7W</td>\n",
       "      <td>672</td>\n",
       "      <td>128</td>\n",
       "      <td>69</td>\n",
       "      <td>8.000000e-30</td>\n",
       "      <td>69/69</td>\n",
       "      <td>0/69</td>\n",
       "    </tr>\n",
       "  </tbody>\n",
       "</table>\n",
       "</div>"
      ],
      "text/plain": [
       "                id1             id2  length  score  length2       e_value  \\\n",
       "0  DRR001369.139725  GEKBKKN08I5SM9     597    128       69  8.000000e-30   \n",
       "2  DRR001369.139705  GEKBKKN08JT0FI     594    128       69  8.000000e-30   \n",
       "3  DRR001369.139692  GEKBKKN08I64FT     604    128       69  8.000000e-30   \n",
       "4  DRR001369.139691  GEKBKKN08JPHFU     517    128       69  8.000000e-30   \n",
       "5  DRR001369.139687  GEKBKKN08I7I7W     672    128       69  8.000000e-30   \n",
       "\n",
       "  identities  gaps  \n",
       "0      69/69  0/69  \n",
       "2      69/69  0/69  \n",
       "3      69/69  0/69  \n",
       "4      69/69  0/69  \n",
       "5      69/69  0/69  "
      ]
     },
     "execution_count": 8,
     "metadata": {},
     "output_type": "execute_result"
    }
   ],
   "source": [
    "blast_output.query('length<700').head()  # Keep only records w/ length<700"
   ]
  },
  {
   "cell_type": "markdown",
   "metadata": {},
   "source": [
    "### Load and save a dataframe"
   ]
  },
  {
   "cell_type": "markdown",
   "metadata": {},
   "source": [
    "You can save a dataframe with:"
   ]
  },
  {
   "cell_type": "code",
   "execution_count": 9,
   "metadata": {},
   "outputs": [],
   "source": [
    "blast_output.to_pickle(\"blast_output.pkl\")"
   ]
  },
  {
   "cell_type": "markdown",
   "metadata": {},
   "source": [
    "You can load a saved dataframe with:"
   ]
  },
  {
   "cell_type": "code",
   "execution_count": 10,
   "metadata": {},
   "outputs": [
    {
     "data": {
      "text/html": [
       "<div>\n",
       "<style scoped>\n",
       "    .dataframe tbody tr th:only-of-type {\n",
       "        vertical-align: middle;\n",
       "    }\n",
       "\n",
       "    .dataframe tbody tr th {\n",
       "        vertical-align: top;\n",
       "    }\n",
       "\n",
       "    .dataframe thead th {\n",
       "        text-align: right;\n",
       "    }\n",
       "</style>\n",
       "<table border=\"1\" class=\"dataframe\">\n",
       "  <thead>\n",
       "    <tr style=\"text-align: right;\">\n",
       "      <th></th>\n",
       "      <th>id1</th>\n",
       "      <th>id2</th>\n",
       "      <th>length</th>\n",
       "      <th>score</th>\n",
       "      <th>length2</th>\n",
       "      <th>e_value</th>\n",
       "      <th>identities</th>\n",
       "      <th>gaps</th>\n",
       "    </tr>\n",
       "  </thead>\n",
       "  <tbody>\n",
       "    <tr>\n",
       "      <th>0</th>\n",
       "      <td>DRR001369.139725</td>\n",
       "      <td>GEKBKKN08I5SM9</td>\n",
       "      <td>597</td>\n",
       "      <td>128</td>\n",
       "      <td>69</td>\n",
       "      <td>8.000000e-30</td>\n",
       "      <td>69/69</td>\n",
       "      <td>0/69</td>\n",
       "    </tr>\n",
       "    <tr>\n",
       "      <th>1</th>\n",
       "      <td>DRR001369.139710</td>\n",
       "      <td>GEKBKKN08JJ5PQ</td>\n",
       "      <td>777</td>\n",
       "      <td>128</td>\n",
       "      <td>69</td>\n",
       "      <td>8.000000e-30</td>\n",
       "      <td>69/69</td>\n",
       "      <td>0/69</td>\n",
       "    </tr>\n",
       "    <tr>\n",
       "      <th>2</th>\n",
       "      <td>DRR001369.139705</td>\n",
       "      <td>GEKBKKN08JT0FI</td>\n",
       "      <td>594</td>\n",
       "      <td>128</td>\n",
       "      <td>69</td>\n",
       "      <td>8.000000e-30</td>\n",
       "      <td>69/69</td>\n",
       "      <td>0/69</td>\n",
       "    </tr>\n",
       "    <tr>\n",
       "      <th>3</th>\n",
       "      <td>DRR001369.139692</td>\n",
       "      <td>GEKBKKN08I64FT</td>\n",
       "      <td>604</td>\n",
       "      <td>128</td>\n",
       "      <td>69</td>\n",
       "      <td>8.000000e-30</td>\n",
       "      <td>69/69</td>\n",
       "      <td>0/69</td>\n",
       "    </tr>\n",
       "    <tr>\n",
       "      <th>4</th>\n",
       "      <td>DRR001369.139691</td>\n",
       "      <td>GEKBKKN08JPHFU</td>\n",
       "      <td>517</td>\n",
       "      <td>128</td>\n",
       "      <td>69</td>\n",
       "      <td>8.000000e-30</td>\n",
       "      <td>69/69</td>\n",
       "      <td>0/69</td>\n",
       "    </tr>\n",
       "  </tbody>\n",
       "</table>\n",
       "</div>"
      ],
      "text/plain": [
       "                id1             id2  length  score  length2       e_value  \\\n",
       "0  DRR001369.139725  GEKBKKN08I5SM9     597    128       69  8.000000e-30   \n",
       "1  DRR001369.139710  GEKBKKN08JJ5PQ     777    128       69  8.000000e-30   \n",
       "2  DRR001369.139705  GEKBKKN08JT0FI     594    128       69  8.000000e-30   \n",
       "3  DRR001369.139692  GEKBKKN08I64FT     604    128       69  8.000000e-30   \n",
       "4  DRR001369.139691  GEKBKKN08JPHFU     517    128       69  8.000000e-30   \n",
       "\n",
       "  identities  gaps  \n",
       "0      69/69  0/69  \n",
       "1      69/69  0/69  \n",
       "2      69/69  0/69  \n",
       "3      69/69  0/69  \n",
       "4      69/69  0/69  "
      ]
     },
     "execution_count": 10,
     "metadata": {},
     "output_type": "execute_result"
    }
   ],
   "source": [
    "pd.read_pickle(\"blast_output.pkl\").head()"
   ]
  },
  {
   "cell_type": "markdown",
   "metadata": {},
   "source": [
    "For more information, see the [Pandas documentation](http://pandas-docs.github.io/pandas-docs-travis/user_guide/io.html)."
   ]
  },
  {
   "cell_type": "markdown",
   "metadata": {},
   "source": [
    "## Enhance the index"
   ]
  },
  {
   "cell_type": "markdown",
   "metadata": {},
   "source": [
    "### Add related data"
   ]
  },
  {
   "cell_type": "markdown",
   "metadata": {},
   "source": [
    "Once the index is loaded and cleaned up according to your needs, you can add metadata / related data as columns to the dataframe. For instance, to compute the percentage of identity, you would need to define the following function:"
   ]
  },
  {
   "cell_type": "code",
   "execution_count": 11,
   "metadata": {},
   "outputs": [],
   "source": [
    "def identity_percent(identities):\n",
    "    \"\"\"Compute % identity\"\"\"\n",
    "    numerator = float(identities[:identities.find(\"/\")])\n",
    "    denominator = float(identities[identities.find(\"/\")+1:])\n",
    "    return  numerator / denominator"
   ]
  },
  {
   "cell_type": "markdown",
   "metadata": {},
   "source": [
    "Once the function is defined, it can be applied to the dataframe to add a new column, as follows:"
   ]
  },
  {
   "cell_type": "code",
   "execution_count": 12,
   "metadata": {},
   "outputs": [],
   "source": [
    "blast_output['identity_percent'] = blast_output.apply(lambda x: identity_percent(x['identities']), axis=1)"
   ]
  },
  {
   "cell_type": "markdown",
   "metadata": {},
   "source": [
    "Printing `blast_output` shows the extra column, with the proper name and calculated values:"
   ]
  },
  {
   "cell_type": "code",
   "execution_count": 13,
   "metadata": {},
   "outputs": [
    {
     "data": {
      "text/html": [
       "<div>\n",
       "<style scoped>\n",
       "    .dataframe tbody tr th:only-of-type {\n",
       "        vertical-align: middle;\n",
       "    }\n",
       "\n",
       "    .dataframe tbody tr th {\n",
       "        vertical-align: top;\n",
       "    }\n",
       "\n",
       "    .dataframe thead th {\n",
       "        text-align: right;\n",
       "    }\n",
       "</style>\n",
       "<table border=\"1\" class=\"dataframe\">\n",
       "  <thead>\n",
       "    <tr style=\"text-align: right;\">\n",
       "      <th></th>\n",
       "      <th>id1</th>\n",
       "      <th>id2</th>\n",
       "      <th>length</th>\n",
       "      <th>score</th>\n",
       "      <th>length2</th>\n",
       "      <th>e_value</th>\n",
       "      <th>identities</th>\n",
       "      <th>gaps</th>\n",
       "      <th>identity_percent</th>\n",
       "    </tr>\n",
       "  </thead>\n",
       "  <tbody>\n",
       "    <tr>\n",
       "      <th>0</th>\n",
       "      <td>DRR001369.139725</td>\n",
       "      <td>GEKBKKN08I5SM9</td>\n",
       "      <td>597</td>\n",
       "      <td>128</td>\n",
       "      <td>69</td>\n",
       "      <td>8.000000e-30</td>\n",
       "      <td>69/69</td>\n",
       "      <td>0/69</td>\n",
       "      <td>1.0</td>\n",
       "    </tr>\n",
       "    <tr>\n",
       "      <th>1</th>\n",
       "      <td>DRR001369.139710</td>\n",
       "      <td>GEKBKKN08JJ5PQ</td>\n",
       "      <td>777</td>\n",
       "      <td>128</td>\n",
       "      <td>69</td>\n",
       "      <td>8.000000e-30</td>\n",
       "      <td>69/69</td>\n",
       "      <td>0/69</td>\n",
       "      <td>1.0</td>\n",
       "    </tr>\n",
       "    <tr>\n",
       "      <th>2</th>\n",
       "      <td>DRR001369.139705</td>\n",
       "      <td>GEKBKKN08JT0FI</td>\n",
       "      <td>594</td>\n",
       "      <td>128</td>\n",
       "      <td>69</td>\n",
       "      <td>8.000000e-30</td>\n",
       "      <td>69/69</td>\n",
       "      <td>0/69</td>\n",
       "      <td>1.0</td>\n",
       "    </tr>\n",
       "    <tr>\n",
       "      <th>3</th>\n",
       "      <td>DRR001369.139692</td>\n",
       "      <td>GEKBKKN08I64FT</td>\n",
       "      <td>604</td>\n",
       "      <td>128</td>\n",
       "      <td>69</td>\n",
       "      <td>8.000000e-30</td>\n",
       "      <td>69/69</td>\n",
       "      <td>0/69</td>\n",
       "      <td>1.0</td>\n",
       "    </tr>\n",
       "    <tr>\n",
       "      <th>4</th>\n",
       "      <td>DRR001369.139691</td>\n",
       "      <td>GEKBKKN08JPHFU</td>\n",
       "      <td>517</td>\n",
       "      <td>128</td>\n",
       "      <td>69</td>\n",
       "      <td>8.000000e-30</td>\n",
       "      <td>69/69</td>\n",
       "      <td>0/69</td>\n",
       "      <td>1.0</td>\n",
       "    </tr>\n",
       "  </tbody>\n",
       "</table>\n",
       "</div>"
      ],
      "text/plain": [
       "                id1             id2  length  score  length2       e_value  \\\n",
       "0  DRR001369.139725  GEKBKKN08I5SM9     597    128       69  8.000000e-30   \n",
       "1  DRR001369.139710  GEKBKKN08JJ5PQ     777    128       69  8.000000e-30   \n",
       "2  DRR001369.139705  GEKBKKN08JT0FI     594    128       69  8.000000e-30   \n",
       "3  DRR001369.139692  GEKBKKN08I64FT     604    128       69  8.000000e-30   \n",
       "4  DRR001369.139691  GEKBKKN08JPHFU     517    128       69  8.000000e-30   \n",
       "\n",
       "  identities  gaps  identity_percent  \n",
       "0      69/69  0/69               1.0  \n",
       "1      69/69  0/69               1.0  \n",
       "2      69/69  0/69               1.0  \n",
       "3      69/69  0/69               1.0  \n",
       "4      69/69  0/69               1.0  "
      ]
     },
     "execution_count": 13,
     "metadata": {},
     "output_type": "execute_result"
    }
   ],
   "source": [
    "blast_output.head()  # Show the first records, to check it works"
   ]
  },
  {
   "cell_type": "markdown",
   "metadata": {},
   "source": [
    "### Real-world example and external data\n",
    "\n",
    "The example function `identity_percent` above  was kept simple on purpose. In your own custom functions, you may want to access external data. See the three suggestions below."
   ]
  },
  {
   "cell_type": "markdown",
   "metadata": {},
   "source": [
    "#### SRA metadata\n",
    "\n",
    "SRA's metadata can be downloaded locally as a compressed SQLite3 database (2.5 Gb, 37 Gb once extracted) from [this lab](http://gbnci.abcc.ncifcrf.gov/sra/index.php) ([direct link](https://gbnci-abcc.ncifcrf.gov/backup/SRAmetadb.sqlite.gz), [mirror](https://s3.amazonaws.com/starbuck1/sradb/SRAmetadb.sqlite.gz)). To explore these metadata, either use `sqlite3` [directly](https://edwards.sdsu.edu/research/sra-metadata/) or try [pysradb](https://saket-choudhary.me/pysradb/) ([example notebook](https://nbviewer.jupyter.org/github/saketkc/pysradb/blob/master/notebooks/01.SRAdb-demo.ipynb)).\n",
    "\n",
    "Example with `pysradb`:"
   ]
  },
  {
   "cell_type": "code",
   "execution_count": 14,
   "metadata": {
    "collapsed": true
   },
   "outputs": [
    {
     "ename": "OperationalError",
     "evalue": "no such table: metaInfo",
     "output_type": "error",
     "traceback": [
      "\u001b[0;31m---------------------------------------------------------------------------\u001b[0m",
      "\u001b[0;31mOperationalError\u001b[0m                          Traceback (most recent call last)",
      "\u001b[0;32m<ipython-input-14-71f510d29a54>\u001b[0m in \u001b[0;36m<module>\u001b[0;34m\u001b[0m\n\u001b[1;32m      5\u001b[0m \u001b[0;31m# download_sradb_file()\u001b[0m\u001b[0;34m\u001b[0m\u001b[0;34m\u001b[0m\u001b[0;34m\u001b[0m\u001b[0m\n\u001b[1;32m      6\u001b[0m \u001b[0;34m\u001b[0m\u001b[0m\n\u001b[0;32m----> 7\u001b[0;31m \u001b[0mdb\u001b[0m \u001b[0;34m=\u001b[0m \u001b[0mSRAdb\u001b[0m\u001b[0;34m(\u001b[0m\u001b[0;34m'SRAmetadb.sqlite'\u001b[0m\u001b[0;34m)\u001b[0m\u001b[0;34m\u001b[0m\u001b[0;34m\u001b[0m\u001b[0m\n\u001b[0m\u001b[1;32m      8\u001b[0m \u001b[0mdf\u001b[0m \u001b[0;34m=\u001b[0m \u001b[0mdb\u001b[0m\u001b[0;34m.\u001b[0m\u001b[0msra_metadata\u001b[0m\u001b[0;34m(\u001b[0m\u001b[0;34m'DRR001369'\u001b[0m\u001b[0;34m,\u001b[0m \u001b[0mdetailed\u001b[0m\u001b[0;34m=\u001b[0m\u001b[0;32mTrue\u001b[0m\u001b[0;34m)\u001b[0m\u001b[0;34m\u001b[0m\u001b[0;34m\u001b[0m\u001b[0m\n\u001b[1;32m      9\u001b[0m \u001b[0mdf\u001b[0m\u001b[0;34m.\u001b[0m\u001b[0mhead\u001b[0m\u001b[0;34m(\u001b[0m\u001b[0;34m)\u001b[0m\u001b[0;34m\u001b[0m\u001b[0;34m\u001b[0m\u001b[0m\n",
      "\u001b[0;32m~/activite/latitude77/realisation/find/sra/blast_output_parser/ve/lib/python3.7/site-packages/pysradb/sradb.py\u001b[0m in \u001b[0;36m__init__\u001b[0;34m(self, sqlite_file)\u001b[0m\n\u001b[1;32m    167\u001b[0m         \"\"\"\n\u001b[1;32m    168\u001b[0m         \u001b[0msuper\u001b[0m\u001b[0;34m(\u001b[0m\u001b[0mSRAdb\u001b[0m\u001b[0;34m,\u001b[0m \u001b[0mself\u001b[0m\u001b[0;34m)\u001b[0m\u001b[0;34m.\u001b[0m\u001b[0m__init__\u001b[0m\u001b[0;34m(\u001b[0m\u001b[0msqlite_file\u001b[0m\u001b[0;34m)\u001b[0m\u001b[0;34m\u001b[0m\u001b[0;34m\u001b[0m\u001b[0m\n\u001b[0;32m--> 169\u001b[0;31m         \u001b[0m_verify_srametadb\u001b[0m\u001b[0;34m(\u001b[0m\u001b[0msqlite_file\u001b[0m\u001b[0;34m)\u001b[0m\u001b[0;34m\u001b[0m\u001b[0;34m\u001b[0m\u001b[0m\n\u001b[0m\u001b[1;32m    170\u001b[0m         \u001b[0mself\u001b[0m\u001b[0;34m.\u001b[0m\u001b[0m_db_type\u001b[0m \u001b[0;34m=\u001b[0m \u001b[0;34m\"SRA\"\u001b[0m\u001b[0;34m\u001b[0m\u001b[0;34m\u001b[0m\u001b[0m\n\u001b[1;32m    171\u001b[0m         self.valid_in_acc_type = [\n",
      "\u001b[0;32m~/activite/latitude77/realisation/find/sra/blast_output_parser/ve/lib/python3.7/site-packages/pysradb/sradb.py\u001b[0m in \u001b[0;36m_verify_srametadb\u001b[0;34m(filepath)\u001b[0m\n\u001b[1;32m    144\u001b[0m         )\n\u001b[1;32m    145\u001b[0m         \u001b[0msys\u001b[0m\u001b[0;34m.\u001b[0m\u001b[0mexit\u001b[0m\u001b[0;34m(\u001b[0m\u001b[0;36m1\u001b[0m\u001b[0;34m)\u001b[0m\u001b[0;34m\u001b[0m\u001b[0;34m\u001b[0m\u001b[0m\n\u001b[0;32m--> 146\u001b[0;31m     \u001b[0mmetadata\u001b[0m \u001b[0;34m=\u001b[0m \u001b[0mdb\u001b[0m\u001b[0;34m.\u001b[0m\u001b[0mquery\u001b[0m\u001b[0;34m(\u001b[0m\u001b[0;34m\"SELECT * FROM metaInfo\"\u001b[0m\u001b[0;34m)\u001b[0m\u001b[0;34m\u001b[0m\u001b[0;34m\u001b[0m\u001b[0m\n\u001b[0m\u001b[1;32m    147\u001b[0m     \u001b[0mdb\u001b[0m\u001b[0;34m.\u001b[0m\u001b[0mclose\u001b[0m\u001b[0;34m(\u001b[0m\u001b[0;34m)\u001b[0m\u001b[0;34m\u001b[0m\u001b[0;34m\u001b[0m\u001b[0m\n\u001b[1;32m    148\u001b[0m     \u001b[0;32mif\u001b[0m \u001b[0mlist\u001b[0m\u001b[0;34m(\u001b[0m\u001b[0mmetadata\u001b[0m\u001b[0;34m.\u001b[0m\u001b[0miloc\u001b[0m\u001b[0;34m[\u001b[0m\u001b[0;36m0\u001b[0m\u001b[0;34m]\u001b[0m\u001b[0;34m.\u001b[0m\u001b[0mvalues\u001b[0m\u001b[0;34m)\u001b[0m \u001b[0;34m!=\u001b[0m \u001b[0;34m[\u001b[0m\u001b[0;34m\"schema version\"\u001b[0m\u001b[0;34m,\u001b[0m \u001b[0;34m\"1.0\"\u001b[0m\u001b[0;34m]\u001b[0m\u001b[0;34m:\u001b[0m\u001b[0;34m\u001b[0m\u001b[0;34m\u001b[0m\u001b[0m\n",
      "\u001b[0;32m~/activite/latitude77/realisation/find/sra/blast_output_parser/ve/lib/python3.7/site-packages/pysradb/basedb.py\u001b[0m in \u001b[0;36mquery\u001b[0;34m(self, sql_query)\u001b[0m\n\u001b[1;32m    101\u001b[0m \u001b[0;34m\u001b[0m\u001b[0m\n\u001b[1;32m    102\u001b[0m         \"\"\"\n\u001b[0;32m--> 103\u001b[0;31m         \u001b[0mresults\u001b[0m \u001b[0;34m=\u001b[0m \u001b[0mself\u001b[0m\u001b[0;34m.\u001b[0m\u001b[0mcursor\u001b[0m\u001b[0;34m.\u001b[0m\u001b[0mexecute\u001b[0m\u001b[0;34m(\u001b[0m\u001b[0msql_query\u001b[0m\u001b[0;34m)\u001b[0m\u001b[0;34m.\u001b[0m\u001b[0mfetchall\u001b[0m\u001b[0;34m(\u001b[0m\u001b[0;34m)\u001b[0m\u001b[0;34m\u001b[0m\u001b[0;34m\u001b[0m\u001b[0m\n\u001b[0m\u001b[1;32m    104\u001b[0m         \u001b[0mcolumn_names\u001b[0m \u001b[0;34m=\u001b[0m \u001b[0mlist\u001b[0m\u001b[0;34m(\u001b[0m\u001b[0;34m[\u001b[0m\u001b[0mx\u001b[0m\u001b[0;34m[\u001b[0m\u001b[0;36m0\u001b[0m\u001b[0;34m]\u001b[0m \u001b[0;32mfor\u001b[0m \u001b[0mx\u001b[0m \u001b[0;32min\u001b[0m \u001b[0mself\u001b[0m\u001b[0;34m.\u001b[0m\u001b[0mcursor\u001b[0m\u001b[0;34m.\u001b[0m\u001b[0mdescription\u001b[0m\u001b[0;34m]\u001b[0m\u001b[0;34m)\u001b[0m\u001b[0;34m\u001b[0m\u001b[0;34m\u001b[0m\u001b[0m\n\u001b[1;32m    105\u001b[0m         \u001b[0mresults\u001b[0m \u001b[0;34m=\u001b[0m \u001b[0;34m[\u001b[0m\u001b[0mdict\u001b[0m\u001b[0;34m(\u001b[0m\u001b[0mlist\u001b[0m\u001b[0;34m(\u001b[0m\u001b[0mzip\u001b[0m\u001b[0;34m(\u001b[0m\u001b[0mcolumn_names\u001b[0m\u001b[0;34m,\u001b[0m \u001b[0mresult\u001b[0m\u001b[0;34m)\u001b[0m\u001b[0;34m)\u001b[0m\u001b[0;34m)\u001b[0m \u001b[0;32mfor\u001b[0m \u001b[0mresult\u001b[0m \u001b[0;32min\u001b[0m \u001b[0mresults\u001b[0m\u001b[0;34m]\u001b[0m\u001b[0;34m\u001b[0m\u001b[0;34m\u001b[0m\u001b[0m\n",
      "\u001b[0;31mOperationalError\u001b[0m: no such table: metaInfo"
     ]
    }
   ],
   "source": [
    "# This code will not work since the sradb file has to be downloaded first\n",
    "from pysradb import SRAdb, download_sradb_file\n",
    "\n",
    "# Uncomment the next line if you haven't downloaded `SRAmetadb.sqlite` yet.\n",
    "# download_sradb_file()\n",
    "\n",
    "db = SRAdb('SRAmetadb.sqlite')\n",
    "df = db.sra_metadata('DRR001369', detailed=True)\n",
    "df.head()"
   ]
  },
  {
   "cell_type": "markdown",
   "metadata": {},
   "source": [
    "Notes:\n",
    "\n",
    "- On GNU/Linux, SRA can be mounted locally with a FUSE-module called [fusera](https://github.com/mitre/fusera).\n",
    "- You can also access SRA from your browser [here]( https://www.ncbi.nlm.nih.gov/sra), [browse runs](https://trace.ncbi.nlm.nih.gov/Traces/sra/?run=DRR001369), etc."
   ]
  },
  {
   "cell_type": "markdown",
   "metadata": {},
   "source": [
    "#### Use Entrez's API with BioPython\n",
    "\n",
    "[`Biopython`](https://biopython.org/wiki/Documentation) provides many other useful tools. In particular, it gives you access to the full power of [NCBI's Entrez data retrieval system](http://biopython.org/DIST/docs/tutorial/Tutorial.html#htoc116). Its [efetch](http://biopython.org/DIST/docs/api/Bio.Entrez-module.html#efetch) function can query SRA directly. See [here](https://github.com/nelas/sra.py/blob/master/sra.py) for examples. Advanced queries can be built with this [web interface](https://www.ncbi.nlm.nih.gov/sra/advanced)."
   ]
  },
  {
   "cell_type": "markdown",
   "metadata": {},
   "source": [
    "#### BioSample\n",
    "\n",
    "Many useful metadata can also be downloaded from [BioSample (xml - 790MB download)](https://www.ncbi.nlm.nih.gov/public/)."
   ]
  },
  {
   "cell_type": "markdown",
   "metadata": {},
   "source": [
    "### Ensembl\n",
    "\n",
    "The [Ensembl REST API](http://rest.ensembl.org/) provides access to many european resources."
   ]
  }
 ],
 "metadata": {
  "kernelspec": {
   "display_name": "Python 3",
   "language": "python",
   "name": "python3"
  },
  "language_info": {
   "codemirror_mode": {
    "name": "ipython",
    "version": 3
   },
   "file_extension": ".py",
   "mimetype": "text/x-python",
   "name": "python",
   "nbconvert_exporter": "python",
   "pygments_lexer": "ipython3",
   "version": "3.7.3"
  }
 },
 "nbformat": 4,
 "nbformat_minor": 2
}
